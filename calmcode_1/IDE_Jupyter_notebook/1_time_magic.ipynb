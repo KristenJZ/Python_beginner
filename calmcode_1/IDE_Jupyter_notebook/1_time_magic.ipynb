{
 "cells": [
  {
   "cell_type": "code",
   "execution_count": 5,
   "id": "a6e0ed5f",
   "metadata": {},
   "outputs": [],
   "source": [
    "import random\n",
    "\n",
    "def sum_comprehension(n):\n",
    "    return sum([random.random() for i in range(n)])\n",
    "def sum_forloop(n):\n",
    "    s = 0\n",
    "    for i in range(n):\n",
    "        s += random.random()\n",
    "    return s"
   ]
  },
  {
   "cell_type": "code",
   "execution_count": 6,
   "id": "59b1facf",
   "metadata": {},
   "outputs": [
    {
     "name": "stdout",
     "output_type": "stream",
     "text": [
      "CPU times: user 3.83 ms, sys: 1.53 ms, total: 5.36 ms\n",
      "Wall time: 5.7 ms\n"
     ]
    },
    {
     "data": {
      "text/plain": [
       "5519.70031595671"
      ]
     },
     "execution_count": 6,
     "metadata": {},
     "output_type": "execute_result"
    }
   ],
   "source": [
    "%time sum_comprehension(1_1000) #%time is for calculating the CPU time."
   ]
  },
  {
   "cell_type": "code",
   "execution_count": 7,
   "id": "2f1035ed",
   "metadata": {},
   "outputs": [
    {
     "name": "stdout",
     "output_type": "stream",
     "text": [
      "CPU times: user 4.75 ms, sys: 404 µs, total: 5.15 ms\n",
      "Wall time: 5.05 ms\n"
     ]
    },
    {
     "data": {
      "text/plain": [
       "5519.112208752954"
      ]
     },
     "execution_count": 7,
     "metadata": {},
     "output_type": "execute_result"
    }
   ],
   "source": [
    "%time sum_forloop(1_1000)"
   ]
  },
  {
   "cell_type": "code",
   "execution_count": 9,
   "id": "bb29e99f",
   "metadata": {},
   "outputs": [
    {
     "name": "stdout",
     "output_type": "stream",
     "text": [
      "954 µs ± 11.8 µs per loop (mean ± std. dev. of 7 runs, 1000 loops each)\n"
     ]
    }
   ],
   "source": [
    "%timeit sum_comprehension(1_1000) #%timeit is similar to %time. The only thing is that it will run multiple times and get more accurate number, with more time."
   ]
  },
  {
   "cell_type": "code",
   "execution_count": 10,
   "id": "cd4823db",
   "metadata": {},
   "outputs": [
    {
     "name": "stdout",
     "output_type": "stream",
     "text": [
      "964 µs ± 32.9 µs per loop (mean ± std. dev. of 7 runs, 1000 loops each)\n"
     ]
    }
   ],
   "source": [
    "%timeit -n 1000 sum_comprehension(1_1000) #similar to the above, but take less loops of running"
   ]
  },
  {
   "cell_type": "code",
   "execution_count": 11,
   "id": "1ca9ebe2",
   "metadata": {},
   "outputs": [
    {
     "name": "stdout",
     "output_type": "stream",
     "text": [
      "877 µs ± 41.8 µs per loop (mean ± std. dev. of 7 runs, 1000 loops each)\n"
     ]
    }
   ],
   "source": [
    "%timeit sum_comprehension(10000) #it will stop at 1000 loops"
   ]
  },
  {
   "cell_type": "code",
   "execution_count": 12,
   "id": "71c9a23a",
   "metadata": {},
   "outputs": [
    {
     "name": "stdout",
     "output_type": "stream",
     "text": [
      "72.3 µs ± 2.35 µs per loop (mean ± std. dev. of 7 runs, 10000 loops each)\n"
     ]
    }
   ],
   "source": [
    "%%timeit\n",
    "\n",
    "for i in range(1000):\n",
    "    _ = random.random()\n",
    "# it could provide more than one line of code"
   ]
  },
  {
   "cell_type": "code",
   "execution_count": null,
   "id": "fb30eb9a",
   "metadata": {},
   "outputs": [],
   "source": []
  }
 ],
 "metadata": {
  "kernelspec": {
   "display_name": "Python 3 (ipykernel)",
   "language": "python",
   "name": "python3"
  },
  "language_info": {
   "codemirror_mode": {
    "name": "ipython",
    "version": 3
   },
   "file_extension": ".py",
   "mimetype": "text/x-python",
   "name": "python",
   "nbconvert_exporter": "python",
   "pygments_lexer": "ipython3",
   "version": "3.9.13"
  }
 },
 "nbformat": 4,
 "nbformat_minor": 5
}
