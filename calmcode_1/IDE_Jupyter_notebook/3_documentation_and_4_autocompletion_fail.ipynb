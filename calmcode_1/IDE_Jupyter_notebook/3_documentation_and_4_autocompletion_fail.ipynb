{
 "cells": [
  {
   "cell_type": "code",
   "execution_count": 1,
   "id": "d71fa334",
   "metadata": {},
   "outputs": [
    {
     "name": "stdout",
     "output_type": "stream",
     "text": [
      "Requirement already satisfied: numpy in /opt/anaconda3/lib/python3.9/site-packages (1.26.3)\n",
      "Note: you may need to restart the kernel to use updated packages.\n"
     ]
    }
   ],
   "source": [
    "%pip install numpy"
   ]
  },
  {
   "cell_type": "code",
   "execution_count": 2,
   "id": "3af8388c",
   "metadata": {},
   "outputs": [],
   "source": [
    "import numpy as np"
   ]
  },
  {
   "cell_type": "code",
   "execution_count": 3,
   "id": "6fbaccdd",
   "metadata": {},
   "outputs": [],
   "source": [
    "n = 1000\n",
    "arr_ones = np.ones(n)\n",
    "arr_zeros = np.zeros(n)"
   ]
  },
  {
   "cell_type": "code",
   "execution_count": 4,
   "id": "47e3d08b",
   "metadata": {},
   "outputs": [],
   "source": [
    "?np.ones #will prompt documentation to appear as output"
   ]
  },
  {
   "cell_type": "code",
   "execution_count": null,
   "id": "3e7cb4ea",
   "metadata": {},
   "outputs": [],
   "source": [
    "np.ones() #use <shift+tab> here will prompt documentation to appear"
   ]
  },
  {
   "cell_type": "code",
   "execution_count": 16,
   "id": "7be2e65b",
   "metadata": {},
   "outputs": [],
   "source": [
    "import time\n",
    "\n",
    "for i in range(10):\n",
    "    time.sleep(1)"
   ]
  },
  {
   "cell_type": "code",
   "execution_count": 18,
   "id": "15276973",
   "metadata": {},
   "outputs": [
    {
     "data": {
      "text/plain": [
       "<function RandomState.normal>"
      ]
     },
     "execution_count": 18,
     "metadata": {},
     "output_type": "execute_result"
    }
   ],
   "source": [
    "np.random.normal  #use <tab> here to find the functions that can be used"
   ]
  },
  {
   "cell_type": "code",
   "execution_count": 13,
   "id": "d0d81d10",
   "metadata": {},
   "outputs": [
    {
     "data": {
      "text/plain": [
       "1000.0"
      ]
     },
     "execution_count": 13,
     "metadata": {},
     "output_type": "execute_result"
    }
   ],
   "source": [
    "arr_ones.sum()"
   ]
  },
  {
   "cell_type": "code",
   "execution_count": 14,
   "id": "9cfd40ac",
   "metadata": {},
   "outputs": [],
   "source": [
    "another_arr = np.zeros(10)"
   ]
  },
  {
   "cell_type": "code",
   "execution_count": 15,
   "id": "e6a21a37",
   "metadata": {},
   "outputs": [],
   "source": [
    "?another_arr"
   ]
  },
  {
   "cell_type": "code",
   "execution_count": 23,
   "id": "af3cf5a2",
   "metadata": {},
   "outputs": [
    {
     "data": {
      "text/plain": [
       "0.0"
      ]
     },
     "execution_count": 23,
     "metadata": {},
     "output_type": "execute_result"
    }
   ],
   "source": [
    "another_arr.sum()"
   ]
  }
 ],
 "metadata": {
  "kernelspec": {
   "display_name": "Python 3 (ipykernel)",
   "language": "python",
   "name": "python3"
  },
  "language_info": {
   "codemirror_mode": {
    "name": "ipython",
    "version": 3
   },
   "file_extension": ".py",
   "mimetype": "text/x-python",
   "name": "python",
   "nbconvert_exporter": "python",
   "pygments_lexer": "ipython3",
   "version": "3.9.13"
  }
 },
 "nbformat": 4,
 "nbformat_minor": 5
}
