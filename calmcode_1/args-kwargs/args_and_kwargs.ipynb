{
 "cells": [
  {
   "cell_type": "code",
   "execution_count": 2,
   "id": "91d1edc2",
   "metadata": {},
   "outputs": [
    {
     "data": {
      "text/plain": [
       "16"
      ]
     },
     "execution_count": 2,
     "metadata": {},
     "output_type": "execute_result"
    }
   ],
   "source": [
    "def multiply(a, b, c):\n",
    "    return a * b * c\n",
    "\n",
    "multiply (4, 2, 2)\n",
    "\n",
    "# in this case, multiply (4, 2) cannot work anymore. We need args-kwargs to solve it."
   ]
  },
  {
   "cell_type": "code",
   "execution_count": 7,
   "id": "4e733a4d",
   "metadata": {},
   "outputs": [
    {
     "name": "stdout",
     "output_type": "stream",
     "text": [
      "\n"
     ]
    },
    {
     "data": {
      "text/plain": [
       "16"
      ]
     },
     "execution_count": 7,
     "metadata": {},
     "output_type": "execute_result"
    }
   ],
   "source": [
    "def multiply(numbers):\n",
    "    result = 1\n",
    "    for n in numbers:\n",
    "        result = result * n\n",
    "    return result\n",
    "\n",
    "multiply ([4, 2, 2])"
   ]
  },
  {
   "cell_type": "code",
   "execution_count": 9,
   "id": "0ec49b43",
   "metadata": {},
   "outputs": [
    {
     "name": "stdout",
     "output_type": "stream",
     "text": [
      "(4, 2, 2)\n"
     ]
    },
    {
     "data": {
      "text/plain": [
       "16"
      ]
     },
     "execution_count": 9,
     "metadata": {},
     "output_type": "execute_result"
    }
   ],
   "source": [
    "def multiply(*numbers):\n",
    "    print(numbers)\n",
    "    result = 1\n",
    "    for n in numbers:\n",
    "        result = result * n\n",
    "    return result\n",
    "\n",
    "multiply(4, 2, 2)\n",
    "\n",
    "#This one is the same with the one above.\n",
    "#Why?\n",
    "#Look at the star here."
   ]
  },
  {
   "cell_type": "code",
   "execution_count": 14,
   "id": "373bf18d",
   "metadata": {},
   "outputs": [
    {
     "name": "stdout",
     "output_type": "stream",
     "text": [
      "1 2\n",
      "(3, 4)\n"
     ]
    }
   ],
   "source": [
    "def function(a, b, *args):\n",
    "    print(a, b)\n",
    "    print(args)\n",
    "    \n",
    "function (1, 2, 3, 4)\n",
    "\n",
    "#we use * to go with a variable, and then it will consider numbers as a new variable"
   ]
  },
  {
   "cell_type": "code",
   "execution_count": 17,
   "id": "0965500e",
   "metadata": {},
   "outputs": [
    {
     "name": "stdout",
     "output_type": "stream",
     "text": [
      "1 2\n",
      "(5, 3, 4)\n",
      "True\n",
      "{'param': 42}\n"
     ]
    }
   ],
   "source": [
    "def function(a, b, *args, keyword=True, **kwargs):\n",
    "    print(a, b)\n",
    "    print(args)\n",
    "    print(keyword)\n",
    "    print(kwargs)\n",
    "    \n",
    "function(1, 2, 5, 3, 4, param=42)\n",
    "#kwargs is the variable which has both name and value.\n",
    "#It considered the (5, 3, 4) as args, and as param=42 as kwargs"
   ]
  },
  {
   "cell_type": "code",
   "execution_count": 18,
   "id": "1b2fb1e1",
   "metadata": {},
   "outputs": [
    {
     "ename": "SyntaxError",
     "evalue": "positional argument follows keyword argument (2363191328.py, line 7)",
     "output_type": "error",
     "traceback": [
      "\u001b[0;36m  File \u001b[0;32m\"/var/folders/r9/680nx7m16m15hl407ftgfghm0000gn/T/ipykernel_75327/2363191328.py\"\u001b[0;36m, line \u001b[0;32m7\u001b[0m\n\u001b[0;31m    function(a=1, b=2, 5, 3, 4, param=42)\u001b[0m\n\u001b[0m                                        ^\u001b[0m\n\u001b[0;31mSyntaxError\u001b[0m\u001b[0;31m:\u001b[0m positional argument follows keyword argument\n"
     ]
    }
   ],
   "source": [
    "def function(a, b, *args, keyword=True, **kwargs):\n",
    "    print(a, b)\n",
    "    print(args)\n",
    "    print(keyword)\n",
    "    print(kwargs)\n",
    "    \n",
    "function(a=1, b=2, 5, 3, 4, param=42)\n",
    "#it will cause errors. As a=1 and b=2 will be considered as keywords.\n",
    "#in the function, there is positional part and keyword/named arguments."
   ]
  },
  {
   "cell_type": "code",
   "execution_count": 20,
   "id": "db290b74",
   "metadata": {},
   "outputs": [
    {
     "name": "stdout",
     "output_type": "stream",
     "text": [
      "1 2\n",
      "(5, 3, 4)\n",
      "True\n",
      "{'param': 42, 'param_a': 43, 'param_b': 44}\n"
     ]
    }
   ],
   "source": [
    "def function(a, b, *args, keyword=True, **kwargs):\n",
    "    print(a, b)\n",
    "    print(args)\n",
    "    print(keyword)\n",
    "    print(kwargs)\n",
    "    \n",
    "d = {'param_a': 43, 'param_b': 44}    \n",
    "function(1, 2, *[5, 3, 4], param=42, **d)\n",
    "#*/** always means \"i got additional and I need to unpack that\""
   ]
  },
  {
   "cell_type": "code",
   "execution_count": 26,
   "id": "ddae1d0b",
   "metadata": {},
   "outputs": [],
   "source": [
    "import json\n",
    "import pathlib\n",
    "\n",
    "def dict_to_config(dictionary, file=\"config,json\", verbose=False, **kwargs):\n",
    "    json_txt = json.dumps(dictionary, **kwargs)\n",
    "    if verbose:\n",
    "        print(json_txt)\n",
    "    pathlib.Path(file).write_text(json_txt)"
   ]
  },
  {
   "cell_type": "code",
   "execution_count": 27,
   "id": "0dad79e7",
   "metadata": {},
   "outputs": [
    {
     "name": "stdout",
     "output_type": "stream",
     "text": [
      "{\"a\": 1, \"b\": 2}\n"
     ]
    }
   ],
   "source": [
    "dict_to_config({'a':1, 'b':2}, verbose=True, indent=2)"
   ]
  },
  {
   "cell_type": "code",
   "execution_count": 28,
   "id": "32eec348",
   "metadata": {},
   "outputs": [
    {
     "name": "stdout",
     "output_type": "stream",
     "text": [
      "ls: config.json: No such file or directory\r\n"
     ]
    }
   ],
   "source": [
    "!ls config.json"
   ]
  }
 ],
 "metadata": {
  "kernelspec": {
   "display_name": "Python 3 (ipykernel)",
   "language": "python",
   "name": "python3"
  },
  "language_info": {
   "codemirror_mode": {
    "name": "ipython",
    "version": 3
   },
   "file_extension": ".py",
   "mimetype": "text/x-python",
   "name": "python",
   "nbconvert_exporter": "python",
   "pygments_lexer": "ipython3",
   "version": "3.9.13"
  }
 },
 "nbformat": 4,
 "nbformat_minor": 5
}
