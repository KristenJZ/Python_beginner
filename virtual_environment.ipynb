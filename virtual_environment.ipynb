{
 "cells": [
  {
   "cell_type": "code",
   "execution_count": null,
   "id": "8414a726",
   "metadata": {},
   "outputs": [],
   "source": [
    "#We need virtual environment to set multiple pythons apart\n",
    "#create two terminals\n",
    "#one python #one python3\n",
    "#put the following codes in two seperate terminals"
   ]
  },
  {
   "cell_type": "code",
   "execution_count": null,
   "id": "7c881f84",
   "metadata": {},
   "outputs": [],
   "source": [
    "python"
   ]
  },
  {
   "cell_type": "code",
   "execution_count": null,
   "id": "c562087c",
   "metadata": {},
   "outputs": [],
   "source": [
    "python3"
   ]
  },
  {
   "cell_type": "code",
   "execution_count": null,
   "id": "57cfe1c0",
   "metadata": {},
   "outputs": [],
   "source": [
    "which python"
   ]
  },
  {
   "cell_type": "code",
   "execution_count": null,
   "id": "08f48287",
   "metadata": {},
   "outputs": [],
   "source": [
    "which python3"
   ]
  },
  {
   "cell_type": "code",
   "execution_count": null,
   "id": "249a6491",
   "metadata": {},
   "outputs": [],
   "source": [
    "python -m pip install virtualenv #install the virtualenv package"
   ]
  },
  {
   "cell_type": "code",
   "execution_count": null,
   "id": "8bea137f",
   "metadata": {},
   "outputs": [],
   "source": [
    "python3 -m pip install virtualenv #install the virtualenv package"
   ]
  },
  {
   "cell_type": "code",
   "execution_count": null,
   "id": "1ad420b8",
   "metadata": {},
   "outputs": [],
   "source": [
    "python -m virtualenv venv1 #create the first virtual environment"
   ]
  },
  {
   "cell_type": "code",
   "execution_count": null,
   "id": "1a7741c5",
   "metadata": {},
   "outputs": [],
   "source": [
    "python -m virtualenv venv2 #create the second virtual environment"
   ]
  },
  {
   "cell_type": "code",
   "execution_count": null,
   "id": "ea7c2a39",
   "metadata": {},
   "outputs": [],
   "source": [
    "source ven1/bin/activate #activate the virtual environment"
   ]
  },
  {
   "cell_type": "code",
   "execution_count": null,
   "id": "4f2cd376",
   "metadata": {},
   "outputs": [],
   "source": [
    "source ven2/bin/activate #activate the virtual environment"
   ]
  },
  {
   "cell_type": "code",
   "execution_count": null,
   "id": "88febb02",
   "metadata": {},
   "outputs": [],
   "source": [
    "deactivate #to deactivate the virtual environment"
   ]
  },
  {
   "cell_type": "code",
   "execution_count": null,
   "id": "8142aa9f",
   "metadata": {},
   "outputs": [],
   "source": [
    "cat ven1/bin/activate #show the content"
   ]
  },
  {
   "cell_type": "code",
   "execution_count": null,
   "id": "3aaddd95",
   "metadata": {},
   "outputs": [],
   "source": [
    "cat ven2/bin/activate #show the content"
   ]
  },
  {
   "cell_type": "code",
   "execution_count": null,
   "id": "accb8d2c",
   "metadata": {},
   "outputs": [],
   "source": [
    "python -m pip install pandas fastapi"
   ]
  },
  {
   "cell_type": "code",
   "execution_count": null,
   "id": "747e6583",
   "metadata": {},
   "outputs": [],
   "source": [
    "python -m pip #show the command inside\n",
    "#results are like: Commands:\n",
    " # install                     Install packages.\n",
    " # download                    Download packages.\n",
    " # uninstall                   Uninstall packages.\n",
    " # freeze                      Output installed packages in requirements format.\n",
    " # inspect                     Inspect the python environment.\n",
    " # list                        List installed packages.\n",
    " # show                        Show information about installed packages.\n",
    " # check                       Verify installed packages have compatible dependencies.\n",
    " # config                      Manage local and global configuration.\n",
    " # search                      Search PyPI for packages.\n",
    " # cache                       Inspect and manage pip's wheel cache.\n",
    " # index                       Inspect information available from package indexes.\n",
    " # wheel                       Build wheels from your requirements.\n",
    " # hash                        Compute hashes of package archives.\n",
    " # completion                  A helper command used for command completion.\n",
    " # debug                       Show information useful for debugging.\n",
    " # help                        Show help for commands.\n",
    "\n",
    "#General Options:\n",
    " # -h, --help                  Show help.\n",
    " # --debug                     Let unhandled exceptions propagate outside the main subroutine, instead of\n",
    "                             # logging them to stderr.\n",
    " # --isolated                  Run pip in an isolated mode, ignoring environment variables and user\n",
    "                             # configuration.\n",
    " # --require-virtualenv        Allow pip to only run in a virtual environment; exit with an error\n",
    "                            #  otherwise.\n",
    " # --python <python>           Run pip with the specified Python interpreter.\n",
    " # -v, --verbose               Give more output. Option is additive, and can be used up to 3 times.\n",
    " # -V, --version               Show version and exit.\n",
    " # -q, --quiet                 Give less output. Option is additive, and can be used up to 3 times\n",
    "                            #  (corresponding to WARNING, ERROR, and CRITICAL logging levels).\n",
    " # --log <path>                Path to a verbose appending log.\n",
    " # --no-input                  Disable prompting for input.\n",
    " # --keyring-provider <keyring_provider>\n",
    "                             # Enable the credential lookup via the keyring library if user input is\n",
    "                             # allowed. Specify which mechanism to use [disabled, import, subprocess].\n",
    "                             # (default: disabled)\n",
    " # --proxy <proxy>             Specify a proxy in the form scheme://[user:passwd@]proxy.server:port.\n",
    "#  --retries <retries>         Maximum number of retries each connection should attempt (default 5\n",
    "                             # times).\n",
    " # --timeout <sec>             Set the socket timeout (default 15 seconds).\n",
    " # --exists-action <action>    Default action when a path already exists: (s)witch, (i)gnore, (w)ipe,\n",
    "                             # (b)ackup, (a)bort.\n",
    " # --trusted-host <hostname>   Mark this host or host:port pair as trusted, even though it does not have\n",
    "                             # valid or any HTTPS.\n",
    " # --cert <path>               Path to PEM-encoded CA certificate bundle. If provided, overrides the\n",
    "                             # default. See 'SSL Certificate Verification' in pip documentation for more\n",
    "                             # information.\n",
    " # --client-cert <path>        Path to SSL client certificate, a single file containing the private key\n",
    "                             # and the certificate in PEM format.\n",
    " # --cache-dir <dir>         #  Store the cache data in <dir>.\n",
    " # --no-cache-dir              Disable the cache.\n",
    " # --disable-pip-version-check\n",
    "                             # Don't periodically check PyPI to determine whether a new version of pip is\n",
    "                            #  available for download. Implied with --no-index.\n",
    " # --no-color                  Suppress colored output.\n",
    "#  --no-python-version-warning\n",
    "                              # Silence deprecation warnings for upcoming unsupported Pythons.\n",
    " # --use-feature <feature>     Enable new functionality, that may be backward incompatible.\n",
    " # --use-deprecated <feature>  Enable deprecated functionality, that will be removed in the future."
   ]
  },
  {
   "cell_type": "code",
   "execution_count": null,
   "id": "61c310ee",
   "metadata": {},
   "outputs": [],
   "source": [
    "python -m pip freeze | grep pandas"
   ]
  },
  {
   "cell_type": "code",
   "execution_count": null,
   "id": "00f94117",
   "metadata": {},
   "outputs": [],
   "source": [
    "python -m pip install fastapi==0.50.0"
   ]
  },
  {
   "cell_type": "code",
   "execution_count": null,
   "id": "b5330e30",
   "metadata": {},
   "outputs": [],
   "source": [
    "python -m pip freeze #check the information of freeze, e.g., fastapi==0.50.0 pydantic==1.10.14 starlette==0.13.2 typing_extensions==4.9.0"
   ]
  },
  {
   "cell_type": "code",
   "execution_count": null,
   "id": "c240ae7c",
   "metadata": {},
   "outputs": [],
   "source": [
    "pip install jupyter"
   ]
  },
  {
   "cell_type": "code",
   "execution_count": null,
   "id": "8d201ba9",
   "metadata": {},
   "outputs": [],
   "source": [
    "which jupyter #check the location of jupyter"
   ]
  }
 ],
 "metadata": {
  "kernelspec": {
   "display_name": "Python 3 (ipykernel)",
   "language": "python",
   "name": "python3"
  },
  "language_info": {
   "codemirror_mode": {
    "name": "ipython",
    "version": 3
   },
   "file_extension": ".py",
   "mimetype": "text/x-python",
   "name": "python",
   "nbconvert_exporter": "python",
   "pygments_lexer": "ipython3",
   "version": "3.9.13"
  }
 },
 "nbformat": 4,
 "nbformat_minor": 5
}
