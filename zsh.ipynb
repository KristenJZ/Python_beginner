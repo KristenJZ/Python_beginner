{
 "cells": [
  {
   "cell_type": "code",
   "execution_count": null,
   "id": "bf8d6989",
   "metadata": {},
   "outputs": [],
   "source": [
    "#introduction part\n",
    "\n",
    "git init #initialize empty git here"
   ]
  },
  {
   "cell_type": "code",
   "execution_count": null,
   "id": "92acfff1",
   "metadata": {},
   "outputs": [],
   "source": [
    "mkdir dir1 #create a new directory"
   ]
  },
  {
   "cell_type": "code",
   "execution_count": null,
   "id": "c2353586",
   "metadata": {},
   "outputs": [],
   "source": [
    "mkdir dir2"
   ]
  },
  {
   "cell_type": "code",
   "execution_count": null,
   "id": "facfa739",
   "metadata": {},
   "outputs": [],
   "source": [
    "touch dir1/file_a.txt #create a new file"
   ]
  },
  {
   "cell_type": "code",
   "execution_count": null,
   "id": "c6de83e2",
   "metadata": {},
   "outputs": [],
   "source": [
    "touch dir1/file_b.txt"
   ]
  },
  {
   "cell_type": "code",
   "execution_count": null,
   "id": "6a6b593a",
   "metadata": {},
   "outputs": [],
   "source": [
    "touch dir2/file_c.txt"
   ]
  },
  {
   "cell_type": "code",
   "execution_count": null,
   "id": "d8817041",
   "metadata": {},
   "outputs": [],
   "source": [
    "#autocomplete\n",
    "\n",
    "python #touch \"tab\" here to auto complete"
   ]
  },
  {
   "cell_type": "code",
   "execution_count": null,
   "id": "f08ed0d1",
   "metadata": {},
   "outputs": [],
   "source": [
    "cd #change direction. can hit tab to autocompletion"
   ]
  },
  {
   "cell_type": "code",
   "execution_count": null,
   "id": "d11cb8a1",
   "metadata": {},
   "outputs": [],
   "source": [
    "#git \n",
    "\n",
    "git status #to see if there's any commit/new file here"
   ]
  },
  {
   "cell_type": "code",
   "execution_count": null,
   "id": "04370965",
   "metadata": {},
   "outputs": [],
   "source": [
    "git add dir1/"
   ]
  },
  {
   "cell_type": "code",
   "execution_count": null,
   "id": "3546c553",
   "metadata": {},
   "outputs": [],
   "source": [
    "alias #get all the commands taht could have a shortcut"
   ]
  },
  {
   "cell_type": "code",
   "execution_count": null,
   "id": "2db063c3",
   "metadata": {},
   "outputs": [],
   "source": [
    "gcmsg \"First Commit\" #the \"\" was used to add message"
   ]
  },
  {
   "cell_type": "code",
   "execution_count": null,
   "id": "57ce66c7",
   "metadata": {},
   "outputs": [],
   "source": [
    "#dash\n",
    "\n",
    "ls -lhat #add extra information about the location "
   ]
  },
  {
   "cell_type": "code",
   "execution_count": null,
   "id": "4ef65fa5",
   "metadata": {},
   "outputs": [],
   "source": [
    "ls -#tab and then find all the flags"
   ]
  },
  {
   "cell_type": "code",
   "execution_count": null,
   "id": "c3303d9e",
   "metadata": {},
   "outputs": [],
   "source": [
    "#history\n",
    "\n",
    "clear #then hit up / down to see all the commands, go down the history"
   ]
  },
  {
   "cell_type": "code",
   "execution_count": null,
   "id": "d79cd719",
   "metadata": {},
   "outputs": [],
   "source": [
    "mkdir #type some part of the previous commands, then hit up/down, to see the history but only the examples with mkdir"
   ]
  },
  {
   "cell_type": "code",
   "execution_count": null,
   "id": "269fe538",
   "metadata": {},
   "outputs": [],
   "source": [
    "#glob: add more files/directories\n",
    "\n",
    "tree #see the current file and directory"
   ]
  },
  {
   "cell_type": "code",
   "execution_count": null,
   "id": "60691e83",
   "metadata": {},
   "outputs": [],
   "source": [
    "mkdir dir1/dir11\n",
    "touch dir1/dir11/logz.log\n",
    "touch dir1/dir11/script.py"
   ]
  },
  {
   "cell_type": "code",
   "execution_count": null,
   "id": "27506d22",
   "metadata": {},
   "outputs": [],
   "source": [
    "tree #then you will see there's new folder/file added"
   ]
  },
  {
   "cell_type": "code",
   "execution_count": null,
   "id": "4fe66eb3",
   "metadata": {},
   "outputs": [],
   "source": [
    "l **/*.(txt|py)\n",
    "\n",
    "#that means the file could be txt or py file. then these will be listed."
   ]
  },
  {
   "cell_type": "code",
   "execution_count": null,
   "id": "b4961338",
   "metadata": {},
   "outputs": [],
   "source": [
    "#zshrc\n",
    "\n",
    "code ~/.zshrc #where you can make all sources of changes. automation."
   ]
  },
  {
   "cell_type": "code",
   "execution_count": null,
   "id": "6ffdcb26",
   "metadata": {},
   "outputs": [],
   "source": [
    "mkvirtualenv #activate it"
   ]
  },
  {
   "cell_type": "code",
   "execution_count": null,
   "id": "9a06c64d",
   "metadata": {},
   "outputs": [],
   "source": [
    "deactivate #deactivate it"
   ]
  }
 ],
 "metadata": {
  "kernelspec": {
   "display_name": "Python 3 (ipykernel)",
   "language": "python",
   "name": "python3"
  },
  "language_info": {
   "codemirror_mode": {
    "name": "ipython",
    "version": 3
   },
   "file_extension": ".py",
   "mimetype": "text/x-python",
   "name": "python",
   "nbconvert_exporter": "python",
   "pygments_lexer": "ipython3",
   "version": "3.9.13"
  }
 },
 "nbformat": 4,
 "nbformat_minor": 5
}
